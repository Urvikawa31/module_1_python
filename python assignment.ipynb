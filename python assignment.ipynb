{
 "cells": [
  {
   "cell_type": "raw",
   "metadata": {},
   "source": [
    "1) What are the types of Applications? \n",
    "\n",
    "-->\n",
    "(i)Web Application : It is software accessed through a web browser that allows users to interact with content or services online.\n",
    "    For example : Gmail , Google Docs , Amazon\n",
    "(ii)Business Intelligence(BI) Tools : Help users to create visual data representations and interactive dashboards.\n",
    "    For example : Tableau , Power BI\n",
    "(iii)Machine Learning : Support the development of ML models.\n",
    "    For example : TensorFlow , PyTorch and Scikit-Learn\n",
    "(iv)Deep Learning Applications : To use neural networks to perform complex tasks like recognizing images and understanding speech.\n",
    "    For example : TensorFlow , Keras and Caffe"
   ]
  },
  {
   "cell_type": "raw",
   "metadata": {},
   "source": [
    "2) What is programing? \n",
    "\n",
    "-->Programming is the process of writing instructions for computers to perform specific tasks. It involves using programming languages like Python, Java, or C++ to create algorithms, follow syntax rules, and debug code."
   ]
  },
  {
   "cell_type": "raw",
   "metadata": {},
   "source": [
    "3) What is Python? \n",
    "\n",
    "-->Python is a popular programming language. It was created by Guido van Rossum, and released in 1991.\n",
    "    It is used for:web development , software development , mathematics , system scripting."
   ]
  },
  {
   "cell_type": "code",
   "execution_count": 5,
   "metadata": {},
   "outputs": [
    {
     "name": "stdin",
     "output_type": "stream",
     "text": [
      "Enter a number:  -2.5\n"
     ]
    },
    {
     "name": "stdout",
     "output_type": "stream",
     "text": [
      "This Is A Negative Number\n"
     ]
    }
   ],
   "source": [
    "#4) Write a Python program to check if a number is positive, negative or zero. \n",
    "\n",
    "number = float(input(\"Enter a number: \"))\n",
    "\n",
    "if number > 0:\n",
    "    print(\"This Is A Positive Number\")\n",
    "elif number < 0:\n",
    "    print(\"This Is A Negative Number\")\n",
    "else:\n",
    "    print(\"Zero\")"
   ]
  },
  {
   "cell_type": "code",
   "execution_count": 11,
   "metadata": {},
   "outputs": [
    {
     "name": "stdin",
     "output_type": "stream",
     "text": [
      "Enter a number:  5\n"
     ]
    },
    {
     "name": "stdout",
     "output_type": "stream",
     "text": [
      "The factorial of 5 is 120\n"
     ]
    }
   ],
   "source": [
    "#5) Write a Python program to get the Factorial number of given numbers. \n",
    "\n",
    "def factorial(number):\n",
    "    fact = 1\n",
    "    if number == 0 or number == 1:\n",
    "        return fact\n",
    "    else:\n",
    "        for i in range(1, number + 1):\n",
    "            fact *= i\n",
    "    return fact\n",
    "\n",
    "number = int(input(\"Enter a number: \"))\n",
    "result = factorial(number)\n",
    "print(\"The factorial of\", number, \"is\", result)"
   ]
  },
  {
   "cell_type": "code",
   "execution_count": 19,
   "metadata": {},
   "outputs": [
    {
     "name": "stdin",
     "output_type": "stream",
     "text": [
      "Enter the number of terms in the Fibonacci Series:  5\n"
     ]
    },
    {
     "name": "stdout",
     "output_type": "stream",
     "text": [
      "Fibonacci Series: 0 1 1 2 3 \n"
     ]
    }
   ],
   "source": [
    "#6) Write a Python program to get the Fibonacci series of given range.\n",
    "\n",
    "num = int(input(\"Enter the number of terms in the Fibonacci Series: \"))\n",
    "a, b = 0, 1  \n",
    "\n",
    "print(\"Fibonacci Series:\", a, b, end=\" \")\n",
    "\n",
    "for i in range(1, num - 1):\n",
    "    c = a + b  \n",
    "    a = b      \n",
    "    b = c      \n",
    "    print(c, end=\" \") \n",
    "\n",
    "print() "
   ]
  },
  {
   "cell_type": "raw",
   "metadata": {},
   "source": [
    "7) How memory is managed in Python?\n",
    "\n",
    "-->Memory management in Python involves dynamic allocation of memory for objects, utilizing reference counting to track how many references exist for each object. When an object's reference count drops to zero, it is automatically deallocated. Python also employs a garbage collector to clean up circular references that reference counting alone cannot handle.\n",
    "(i)Dynamic Memory Allocation: Memory is allocated dynamically from the heap when objects are created.\n",
    "(ii)Reference Counting: Each object maintains a count of references; memory is deallocated when the count reaches zero.\n",
    "(iii)Memory Pools: Small objects are allocated from memory pools to optimize performance and reduce fragmentation."
   ]
  },
  {
   "cell_type": "raw",
   "metadata": {},
   "source": [
    "8) What is the purpose continuing statement in python? \n",
    "\n",
    "-->The continue statement in Python is used within loops to skip the current iteration and move directly to the next one. When continue is encountered, the remaining code inside the loop for that specific iteration is ignored, and the loop proceeds to the next iteration. This is useful when you want to skip specific conditions in a loop without exiting the loop entirely."
   ]
  },
  {
   "cell_type": "code",
   "execution_count": 23,
   "metadata": {},
   "outputs": [
    {
     "name": "stdin",
     "output_type": "stream",
     "text": [
      "Enter the first number : 2\n",
      "Enter the second number : 5\n"
     ]
    },
    {
     "name": "stdout",
     "output_type": "stream",
     "text": [
      "After swapping :\n",
      "a = 5\n",
      "b = 2\n"
     ]
    },
    {
     "name": "stdin",
     "output_type": "stream",
     "text": [
      "Enter the first number : 10\n",
      "Enter the second number : 20\n"
     ]
    },
    {
     "name": "stdout",
     "output_type": "stream",
     "text": [
      "After swapping (without temp variable):\n",
      "a = 20\n",
      "b = 10\n"
     ]
    }
   ],
   "source": [
    "#9) Write python program that swap two number with temp variable and without temp variable. \n",
    "#Using temp variable\n",
    "a = int(input(\"Enter the first number :\"))\n",
    "b = int(input(\"Enter the second number :\"))\n",
    "\n",
    "temp = a\n",
    "a = b\n",
    "b = temp\n",
    "\n",
    "print(\"After swapping :\")\n",
    "print(\"a =\", a)\n",
    "print(\"b =\", b)\n",
    "\n",
    "#Without using temp variable\n",
    "a = int(input(\"Enter the first number :\"))\n",
    "b = int(input(\"Enter the second number :\"))\n",
    "\n",
    "a, b = b, a\n",
    "\n",
    "print(\"After swapping (without temp variable):\")\n",
    "print(\"a =\", a)\n",
    "print(\"b =\", b)"
   ]
  },
  {
   "cell_type": "code",
   "execution_count": 33,
   "metadata": {},
   "outputs": [
    {
     "name": "stdin",
     "output_type": "stream",
     "text": [
      "Please enter a number to check if it is even, odd, or zero:  2\n"
     ]
    },
    {
     "name": "stdout",
     "output_type": "stream",
     "text": [
      "The number 2 is an even number.\n"
     ]
    }
   ],
   "source": [
    "#10) Write a Python program to find whether a given number is even or odd, \n",
    "#print out an appropriate message to the user. \n",
    "\n",
    "number = int(input(\"Please enter a number to check if it is even, odd, or zero: \"))\n",
    "\n",
    "if number == 0:\n",
    "    print(\"Zero is an even number.\")\n",
    "elif number % 2 == 0:\n",
    "    print(f\"The number {number} is an even number.\")\n",
    "else:\n",
    "    print(f\"The number {number} is an odd number.\")"
   ]
  },
  {
   "cell_type": "code",
   "execution_count": 39,
   "metadata": {},
   "outputs": [
    {
     "name": "stdin",
     "output_type": "stream",
     "text": [
      "Please enter a letter to check if it is a vowel : B\n"
     ]
    },
    {
     "name": "stdout",
     "output_type": "stream",
     "text": [
      "The letter 'B' is not a vowel.\n"
     ]
    }
   ],
   "source": [
    "#11) Write a Python program to test whether a passed letter is a vowel or not.\n",
    "\n",
    "letter = input(\"Please enter a letter to check if it is a vowel :\")\n",
    "\n",
    "if letter.lower() in 'aeiou':\n",
    "    print(f\"The letter '{letter}' is a vowel.\")\n",
    "else:\n",
    "    print(f\"The letter '{letter}' is not a vowel.\")"
   ]
  },
  {
   "cell_type": "code",
   "execution_count": 45,
   "metadata": {},
   "outputs": [
    {
     "name": "stdin",
     "output_type": "stream",
     "text": [
      "Enter the first integer : 4\n",
      "Enter the second integer : 2\n",
      "Enter the third integer : 4\n"
     ]
    },
    {
     "name": "stdout",
     "output_type": "stream",
     "text": [
      "The sum is : 0\n"
     ]
    }
   ],
   "source": [
    "#12) Write a Python program to sum of three given integers. However, \n",
    "#if two values are equal sum will be zero.\n",
    "\n",
    "a = int(input(\"Enter the first integer :\"))\n",
    "b = int(input(\"Enter the second integer :\"))\n",
    "c = int(input(\"Enter the third integer :\"))\n",
    "\n",
    "if a == b or b == c or a == c:\n",
    "    total = 0\n",
    "else:\n",
    "    total = a + b + c\n",
    "\n",
    "print(\"The sum is :\", total)"
   ]
  },
  {
   "cell_type": "code",
   "execution_count": 55,
   "metadata": {},
   "outputs": [
    {
     "name": "stdin",
     "output_type": "stream",
     "text": [
      "Enter the first integer : -7\n",
      "Enter the second integer : 2\n"
     ]
    },
    {
     "name": "stdout",
     "output_type": "stream",
     "text": [
      "Result : True\n"
     ]
    }
   ],
   "source": [
    "#13) Write a Python program that will return true , \n",
    "#if the two given integer values are equal or their sum or difference is 5. \n",
    "\n",
    "a = int(input(\"Enter the first integer :\"))\n",
    "b = int(input(\"Enter the second integer :\"))\n",
    "\n",
    "if a == b or abs(a + b) == 5 or abs(a - b) == 5:\n",
    "    result = True\n",
    "else:\n",
    "    result = False\n",
    "\n",
    "print(\"Result :\", result)"
   ]
  },
  {
   "cell_type": "code",
   "execution_count": 61,
   "metadata": {},
   "outputs": [
    {
     "name": "stdin",
     "output_type": "stream",
     "text": [
      "Enter a positive integer : 3\n"
     ]
    },
    {
     "name": "stdout",
     "output_type": "stream",
     "text": [
      "The sum of the first 3 positive integers is: 6\n"
     ]
    }
   ],
   "source": [
    "#14) Write a python program to sum of the first n positive integers. \n",
    "\n",
    "n = int(input(\"Enter a positive integer :\"))\n",
    "\n",
    "if n > 0:\n",
    "    total = 0 \n",
    "    for i in range(1, n + 1):  \n",
    "        total += i  \n",
    "    print(f\"The sum of the first {n} positive integers is: {total}\")\n",
    "else:\n",
    "    print(\"Please enter a positive integer.\")"
   ]
  },
  {
   "cell_type": "code",
   "execution_count": 65,
   "metadata": {},
   "outputs": [
    {
     "name": "stdin",
     "output_type": "stream",
     "text": [
      "Please enter a string : Python\n"
     ]
    },
    {
     "name": "stdout",
     "output_type": "stream",
     "text": [
      "The length of the entered string is : 6\n"
     ]
    }
   ],
   "source": [
    "#15) Write a Python program to calculate the length of a string. \n",
    "\n",
    "string = input(\"Please enter a string :\")\n",
    "\n",
    "length = len(string)\n",
    "\n",
    "print(f\"The length of the entered string is : {length}\")"
   ]
  },
  {
   "cell_type": "code",
   "execution_count": 71,
   "metadata": {},
   "outputs": [
    {
     "name": "stdin",
     "output_type": "stream",
     "text": [
      "Please enter a string : Language\n"
     ]
    },
    {
     "name": "stdout",
     "output_type": "stream",
     "text": [
      "Character frequency in the string:\n",
      "'L': 1\n",
      "'a': 2\n",
      "'n': 1\n",
      "'g': 2\n",
      "'u': 1\n",
      "'e': 1\n"
     ]
    }
   ],
   "source": [
    "#16) Write a Python program to count the number of characters(character frequency) in a string.\n",
    "\n",
    "string = input(\"Please enter a string :\")\n",
    "frequency = {}\n",
    "\n",
    "for char in string:\n",
    "    if char in frequency:\n",
    "        frequency[char] += 1 \n",
    "    else:\n",
    "        frequency[char] = 1  \n",
    "        \n",
    "print(\"Character frequency in the string:\")\n",
    "for char in frequency:\n",
    "    print(f\"'{char}': {frequency[char]}\")"
   ]
  },
  {
   "cell_type": "raw",
   "metadata": {},
   "source": [
    "17) What are negative indexes and why are they used? \n",
    "\n",
    "-->Negative indexes in Python are a way to access elements from the end of a sequence, like a list, tuple, or string. Instead of starting from the beginning, negative indexes count backward : -1 accesses the last element, -2 the second-to-last, and so on. This allows for an easy and flexible way to retrieve items from the end without needing to know the length of the sequence.We use negative indexes in Python for convenience and simplicity when accessing elements from the end of a sequence, like a list or string. Negative indexes make it easy to get the last items without needing to calculate the length, helping keep code cleaner and more readable"
   ]
  },
  {
   "cell_type": "code",
   "execution_count": 73,
   "metadata": {},
   "outputs": [
    {
     "name": "stdin",
     "output_type": "stream",
     "text": [
      "Enter the main string : Python makes coding fun, and coding is a valuable skill.\n",
      "Enter the substring to count : coding\n"
     ]
    },
    {
     "name": "stdout",
     "output_type": "stream",
     "text": [
      "The substring 'coding' appears 2 times in the main string.\n"
     ]
    }
   ],
   "source": [
    "#18) Write a Python program to count occurrences of a substring in a string. \n",
    "\n",
    "string = input(\"Enter the main string :\")\n",
    "substring = input(\"Enter the substring to count :\")\n",
    "\n",
    "count = string.count(substring)\n",
    "\n",
    "print(f\"The substring '{substring}' appears {count} times in the main string.\")"
   ]
  },
  {
   "cell_type": "code",
   "execution_count": 75,
   "metadata": {},
   "outputs": [
    {
     "name": "stdin",
     "output_type": "stream",
     "text": [
      "Enter a sentence:  many many returns of the day!\n"
     ]
    },
    {
     "name": "stdout",
     "output_type": "stream",
     "text": [
      "'many': 2\n",
      "'returns': 1\n",
      "'of': 1\n",
      "'the': 1\n",
      "'day!': 1\n"
     ]
    }
   ],
   "source": [
    "#19) Write a Python program to count the occurrences of each word in a given sentence\n",
    "\n",
    "sentence = input(\"Enter a sentence: \")\n",
    "words = sentence.split()\n",
    "word = {}\n",
    "\n",
    "for x in words:\n",
    "    if x in word:\n",
    "        word[x] += 1\n",
    "    else:\n",
    "        word[x] = 1\n",
    "\n",
    "for x, count in word.items():\n",
    "    print(f\"'{x}': {count}\")"
   ]
  },
  {
   "cell_type": "code",
   "execution_count": 87,
   "metadata": {},
   "outputs": [
    {
     "name": "stdin",
     "output_type": "stream",
     "text": [
      "Enter the first string :  happy \n",
      "Enter the second string :  birthday\n"
     ]
    },
    {
     "name": "stdout",
     "output_type": "stream",
     "text": [
      "Combined string : bippy  harthday\n"
     ]
    }
   ],
   "source": [
    "#20) Write a Python program to get a single string from two given strings,\n",
    "#separated by a space and swap the first two characters of each string.\n",
    "\n",
    "str1 = input(\"Enter the first string : \")\n",
    "str2 = input(\"Enter the second string : \")\n",
    "\n",
    "if len(str1) < 2 or len(str2) < 2:\n",
    "    print(\"Both strings should have at least two characters.\")\n",
    "else:\n",
    "     a = str2[:2] + str1[2:]  \n",
    "     b = str1[:2] + str2[2:]  \n",
    "\n",
    "combined = a + \" \" + b\n",
    "print(\"Combined string :\", combined)"
   ]
  },
  {
   "cell_type": "code",
   "execution_count": 89,
   "metadata": {},
   "outputs": [
    {
     "name": "stdin",
     "output_type": "stream",
     "text": [
      "Enter a string :  playing\n"
     ]
    },
    {
     "name": "stdout",
     "output_type": "stream",
     "text": [
      "Modified string: playingly\n"
     ]
    }
   ],
   "source": [
    "\"\"\"21) Write a Python program to add 'in' at the end of a given string (length\n",
    "should be at least 3). If the given string already ends with 'ing' then\n",
    "add 'ly' instead if the string length of the given string is less than 3,\n",
    "leave it unchanged.\"\"\"\n",
    "\n",
    "str = input(\"Enter a string : \")\n",
    "\n",
    "if len(str) < 3:\n",
    "    result = str\n",
    "else:\n",
    "    if str.endswith('ing'):\n",
    "        result = str + 'ly'\n",
    "    else:\n",
    "        result = str + 'in'\n",
    "\n",
    "print(\"Modified string:\", result)"
   ]
  },
  {
   "cell_type": "code",
   "execution_count": 9,
   "metadata": {},
   "outputs": [
    {
     "name": "stdin",
     "output_type": "stream",
     "text": [
      "Enter a string :  Language\n"
     ]
    },
    {
     "name": "stdout",
     "output_type": "stream",
     "text": [
      "Result: egaugnaL\n"
     ]
    }
   ],
   "source": [
    "#22) Write a Python function to reverses a string if its length is a multiple of 4. \n",
    "\n",
    "def reverse(string):\n",
    "   \n",
    "    if len(string) % 4 == 0:\n",
    "        return string[::-1] \n",
    "    else:\n",
    "        return string  \n",
    "\n",
    "str = input(\"Enter a string : \")\n",
    "result = reverse(str)\n",
    "print(\"Result:\", result)"
   ]
  },
  {
   "cell_type": "code",
   "execution_count": 13,
   "metadata": {},
   "outputs": [
    {
     "name": "stdin",
     "output_type": "stream",
     "text": [
      "Enter a string :  python\n"
     ]
    },
    {
     "name": "stdout",
     "output_type": "stream",
     "text": [
      "Result :  pyon\n"
     ]
    }
   ],
   "source": [
    "#23) Write a Python program to get a string made of the first 2 and the last 2 chars from a given a string.\n",
    "#If the string length is less than 2, return instead of the empty string.\n",
    "\n",
    "def chars(string):\n",
    "    \n",
    "    if len(string) < 2:\n",
    "        return \"\"  \n",
    "    else:\n",
    "        return string[:2] + string[-2:]\n",
    "\n",
    "str = input(\"Enter a string : \")\n",
    "result = chars(str)\n",
    "print(\"Result : \", result)"
   ]
  },
  {
   "cell_type": "code",
   "execution_count": 23,
   "metadata": {},
   "outputs": [
    {
     "name": "stdin",
     "output_type": "stream",
     "text": [
      "Enter the original string :  have a good dayy!\n",
      "Enter the string to insert :  very\n"
     ]
    },
    {
     "name": "stdout",
     "output_type": "stream",
     "text": [
      "Resulting string : have a gveryood dayy!\n"
     ]
    }
   ],
   "source": [
    "#24) Write a Python function to insert a string in the middle of a string.\n",
    "\n",
    "def middle(original,insert):\n",
    "    \n",
    "    middle_index = len(original) // 2\n",
    "    \n",
    "    string = original[:middle_index] + insert + original[middle_index:]\n",
    "    \n",
    "    return string\n",
    "\n",
    "org_str = input(\"Enter the original string : \")\n",
    "str = input(\"Enter the string to insert : \")\n",
    "result = middle(org_str , str)\n",
    "print(\"Resulting string :\", result)"
   ]
  },
  {
   "cell_type": "raw",
   "metadata": {},
   "source": [
    "25) What is List? How will you reverse a list?\n",
    "\n",
    "-->Lists are used to store multiple items in a single variable.Lists are one of 4 built-in data types in Python used to store collections of data , all with different qualities and usage.Lists are created using square brackets, e.g., [1, 2, 3], and elements are separated by commas. Lists are mutable, meaning you can modify them by adding, removing, or updating elements. List items are ordered, changeable, and allow duplicate values.\n",
    "-->To reverse a list, you can use the reverse() method, which directly reverses the list in place, or use slicing [::-1] to create a reversed copy of the list without modifying the original. Another approach is to use the reversed() function, which returns an iterator over the reversed list. Each method is useful depending on whether you need an in-place reversal or a new reversed list."
   ]
  },
  {
   "cell_type": "raw",
   "metadata": {},
   "source": [
    "26) How will you remove last object from a list?\n",
    "\n",
    "-->To remove the last object from a list in Python, you can use the pop() method without arguments, which removes and returns the last item. \n",
    "For example, if you have my_list = [1, 2, 3, 4] and call my_list.pop(), the list becomes [1, 2, 3], and 4 is returned. Another way is to use del my_list[-1], which deletes the last element without returning it. Both methods are efficient and commonly used, with pop() offering the flexibility to retrieve the removed element if needed."
   ]
  },
  {
   "cell_type": "raw",
   "metadata": {},
   "source": [
    "27)Suppose list1 is [2, 33, 222, 14, and 25], what is list1 [-1]? \n",
    "\n",
    "-->If list1 is [2, 33, 222, 14, 25], then list1[-1] accesses the last element in the list. In Python, negative indexing starts from the end of the list, with -1 representing the last item. So, list1[-1] would give the value 25. This is because Python allows accessing list elements from the end by using negative indices, which is useful when you want to retrieve items without knowing the exact length of the list."
   ]
  },
  {
   "cell_type": "raw",
   "metadata": {},
   "source": [
    "28) Differentiate between append () and extend () methods?\n",
    "\n",
    "-->The append() and extend() methods both add elements to a list, but they work differently. \n",
    "(i)append() adds its argument as a single element at the end of the list, even if it's another list, creating a nested list if needed. For example, my_list.append([1, 2]) would add [1, 2] as a single item.(ii)extend() iterates over its argument and adds each element individually to the list. So, my_list.extend([1, 2]) would add 1 and 2 as separate elements. Essentially, append() adds one item, while extend() merges multiple items from an iterable."
   ]
  },
  {
   "cell_type": "code",
   "execution_count": 16,
   "metadata": {},
   "outputs": [
    {
     "name": "stdout",
     "output_type": "stream",
     "text": [
      "Largest number: 75\n",
      "Smallest number: 5\n",
      "Sum of all numbers: 160\n"
     ]
    }
   ],
   "source": [
    "#29) Write a Python function to get the largest number, smallest num \n",
    "#and sum of all from a list. \n",
    "\n",
    "def listt(numbers):\n",
    "    largest = max(numbers)\n",
    "    smallest = min(numbers)\n",
    "    total_sum = sum(numbers)\n",
    "    return largest, smallest, total_sum\n",
    "\n",
    "lst = [10, 20, 5, 75, 50]\n",
    "largest, smallest, total_sum = listt(lst)\n",
    "\n",
    "print(\"Largest number:\", largest)\n",
    "print(\"Smallest number:\", smallest)\n",
    "print(\"Sum of all numbers:\", total_sum)"
   ]
  },
  {
   "cell_type": "raw",
   "metadata": {},
   "source": [
    "30) How will you compare two lists? \n",
    "\n",
    "-->To compare two lists in Python, you can use the == operator for a direct equality check, which verifies that both lists contain the same elements in the same order. If order doesn't matter, you can sort both lists and compare them using sorted(). For checking if one list is a subset of another, you can use the all() function with the in keyword. \n",
    "Additionally, if you need to compare lists element-wise, you can loop through both lists using zip() to evaluate each pair of elements. These methods allow you to effectively compare lists based on your specific needs."
   ]
  },
  {
   "cell_type": "code",
   "execution_count": 13,
   "metadata": {},
   "outputs": [
    {
     "name": "stdout",
     "output_type": "stream",
     "text": [
      "Number of matching strings: 2\n"
     ]
    }
   ],
   "source": [
    "#31) Write a Python program to count the number of strings where the string length is 2 or more and \n",
    "#the first and last character are same from a given list of strings. \n",
    "\n",
    "def count_str(str):\n",
    "    count = 0\n",
    "    for string in str:\n",
    "        if len(string) >= 2 and string[0] == string[-1]:\n",
    "            count += 1\n",
    "    return count\n",
    "\n",
    "str = [\"abc\", \"xyz\", \"aba\", \"1221\", \"abcd\"]\n",
    "result = count_str(str)\n",
    "print(\"Number of matching strings:\", result)"
   ]
  },
  {
   "cell_type": "code",
   "execution_count": 8,
   "metadata": {},
   "outputs": [
    {
     "name": "stdout",
     "output_type": "stream",
     "text": [
      "List after removing duplicates : [1, 2, 3, 4, 5]\n"
     ]
    }
   ],
   "source": [
    "#32) Write a Python program to remove duplicates from a list.\n",
    "\n",
    "def duplicates(lst):\n",
    "    return list(dict.fromkeys(lst))\n",
    "\n",
    "lst = [1, 2, 3, 2, 4, 1, 5]\n",
    "listt = duplicates(lst)\n",
    "print(\"List after removing duplicates :\", listt)"
   ]
  },
  {
   "cell_type": "code",
   "execution_count": 2,
   "metadata": {},
   "outputs": [
    {
     "name": "stdout",
     "output_type": "stream",
     "text": [
      "The list is empty.\n"
     ]
    }
   ],
   "source": [
    "#33) Write a Python program to check a list is empty or not.\n",
    "\n",
    "def empty(lstt):\n",
    "    return len(lstt) == 0\n",
    "\n",
    "listt = []\n",
    "if empty(listt):\n",
    "    print(\"The list is empty.\")\n",
    "else:\n",
    "    print(\"The list is not empty.\")"
   ]
  },
  {
   "cell_type": "code",
   "execution_count": 5,
   "metadata": {},
   "outputs": [
    {
     "name": "stdout",
     "output_type": "stream",
     "text": [
      "The lists have at least one common member.\n"
     ]
    }
   ],
   "source": [
    "#34) Write a Python function that takes two lists and returns true if they have at least one common member. \n",
    "\n",
    "def common(list1, list2):\n",
    "   \n",
    "    for x in list1:\n",
    "        if x in list2:\n",
    "            return True\n",
    "    return False\n",
    "    \n",
    "a = [1, 2, 3, 4]\n",
    "b = [5, 6, 3, 7]\n",
    "\n",
    "if common(a,b):\n",
    "    print(\"The lists have at least one common member.\")\n",
    "else:\n",
    "    print(\"The lists do not have any common members.\")"
   ]
  },
  {
   "cell_type": "code",
   "execution_count": 6,
   "metadata": {},
   "outputs": [
    {
     "name": "stdout",
     "output_type": "stream",
     "text": [
      "First 5 squares: [1, 4, 9, 16, 25]\n",
      "Last 5 squares: [676, 729, 784, 841, 900]\n"
     ]
    }
   ],
   "source": [
    "#35) Write a Python program to generate and print a list of first and last 5 elements \n",
    "#where the values are square of numbers between 1 and 30. \n",
    "\n",
    "def elements():\n",
    "    \n",
    "    squares = []\n",
    "    \n",
    "    for i in range(1, 31):\n",
    "        squares.append(i**2)  \n",
    "        \n",
    "    first_five = squares[:5]\n",
    "    last_five = squares[-5:]\n",
    "    \n",
    "    return first_five, last_five\n",
    "\n",
    "first_five, last_five = elements()\n",
    "print(\"First 5 squares:\", first_five)\n",
    "print(\"Last 5 squares:\", last_five)"
   ]
  },
  {
   "cell_type": "code",
   "execution_count": 10,
   "metadata": {},
   "outputs": [
    {
     "name": "stdout",
     "output_type": "stream",
     "text": [
      "Unique elements: [1, 2, 3, 4, 5]\n"
     ]
    }
   ],
   "source": [
    "#36) Write a Python function that takes a list and returns a new list with unique elements of the first list. \n",
    "\n",
    "def elements(input_list):\n",
    "    newlist = []  \n",
    "    \n",
    "    for i in input_list:\n",
    "        if i not in newlist:  \n",
    "            newlist.append(i)\n",
    "    \n",
    "    return newlist\n",
    "\n",
    "lst = [1, 2, 2, 3, 4, 1, 5]\n",
    "result = elements(lst)\n",
    "print(\"Unique elements:\", result)"
   ]
  },
  {
   "cell_type": "code",
   "execution_count": 14,
   "metadata": {},
   "outputs": [
    {
     "name": "stdout",
     "output_type": "stream",
     "text": [
      "Converted string : How are you?\n"
     ]
    }
   ],
   "source": [
    "#37) Write a Python program to convert a list of characters into a string.\n",
    "\n",
    "def str(char):\n",
    "    return ''.join(char)\n",
    "\n",
    "char = [\"H\", \"o\", \"w\", \" \" , \"a\", \"r\", \"e\", \" \", \"y\", \"o\", \"u\", \"?\"]\n",
    "result = str(char)\n",
    "print(\"Converted string :\", result)"
   ]
  },
  {
   "cell_type": "code",
   "execution_count": 9,
   "metadata": {},
   "outputs": [
    {
     "name": "stdout",
     "output_type": "stream",
     "text": [
      "Randomly selected item: True\n"
     ]
    }
   ],
   "source": [
    "#38) Write a Python program to select an item randomly from a list.\n",
    "\n",
    "import random\n",
    "\n",
    "def randomm(lst):\n",
    "    return random.choice(lst)\n",
    "\n",
    "my_list = [\"hello\" , \"world\" , \"good\" , 12 , True]\n",
    "random_item = randomm(my_list)\n",
    "print(\"Randomly selected item:\", random_item)"
   ]
  },
  {
   "cell_type": "code",
   "execution_count": 2,
   "metadata": {},
   "outputs": [
    {
     "name": "stdout",
     "output_type": "stream",
     "text": [
      "The second smallest number is: 2\n"
     ]
    }
   ],
   "source": [
    "#39) Write a Python program to find the second smallest number in a list.\n",
    "\n",
    "def smallest(numbers):\n",
    "    unique_numbers = list(set(numbers))\n",
    "    \n",
    "   \n",
    "    if len(unique_numbers) < 2:\n",
    "        return None  \n",
    "    \n",
    "  \n",
    "    unique_numbers.sort()\n",
    "    \n",
    "   \n",
    "    return unique_numbers[1]\n",
    "\n",
    "\n",
    "my_list = [3, 5, 1, 4, 2, 1]\n",
    "result = smallest(my_list)\n",
    "\n",
    "if result is not None:\n",
    "    print(\"The second smallest number is:\", result)\n",
    "else:\n",
    "    print(\"There is no second smallest number in the list.\")\n"
   ]
  },
  {
   "cell_type": "code",
   "execution_count": 3,
   "metadata": {},
   "outputs": [
    {
     "name": "stdout",
     "output_type": "stream",
     "text": [
      "Unique values: [1, 2, 3, 4, 5, 6, 7]\n"
     ]
    }
   ],
   "source": [
    "#40) Write a Python program to get unique values from a list.\n",
    "\n",
    "def values(lstt):\n",
    "    valuee = list(set(lstt))  \n",
    "    return valuee\n",
    "\n",
    "my_list = [1, 2, 2, 3, 4, 4, 5, 6, 6, 7]\n",
    "newlist = values(my_list)\n",
    "print(\"Unique values:\", newlist)"
   ]
  },
  {
   "cell_type": "code",
   "execution_count": 5,
   "metadata": {},
   "outputs": [
    {
     "name": "stdout",
     "output_type": "stream",
     "text": [
      "The list contains the sublist.\n"
     ]
    }
   ],
   "source": [
    "#41) Write a Python program to check whether a list contains a sub list.\n",
    "\n",
    "def contain(mainlist, sublist):\n",
    "   \n",
    "    mainlen = len(mainlist)\n",
    "    sublen = len(sublist)\n",
    "    \n",
    "    if sublen > mainlen:\n",
    "        return False\n",
    "\n",
    "    for i in range(mainlen - sublen + 1):\n",
    "        if mainlist[i:i + sublen] == sublist:\n",
    "            return True  \n",
    "\n",
    "    return False  \n",
    "\n",
    "mainlist = [1, 2, 3, 4, 5, 6]\n",
    "sublist = [3, 4, 5]\n",
    "result = contain(mainlist, sublist)\n",
    "\n",
    "if result:\n",
    "    print(\"The list contains the sublist.\")\n",
    "else:\n",
    "    print(\"The list does not contain the sublist.\")"
   ]
  },
  {
   "cell_type": "code",
   "execution_count": 6,
   "metadata": {},
   "outputs": [
    {
     "name": "stdout",
     "output_type": "stream",
     "text": [
      "a: 1\n",
      "b: 2\n",
      "c: 3\n",
      "d: 4\n"
     ]
    }
   ],
   "source": [
    "#42) Write a Python program to split a list into different variables. \n",
    "\n",
    "lst = [1, 2, 3, 4]\n",
    "\n",
    "a, b, c, d = lst\n",
    "\n",
    "print(\"a:\", a)\n",
    "print(\"b:\", b)\n",
    "print(\"c:\", c)\n",
    "print(\"d:\", d)"
   ]
  },
  {
   "cell_type": "raw",
   "metadata": {},
   "source": [
    "43) What is tuple? Difference between list and tuple. \n",
    "\n",
    "-->Tuples are used to store multiple items in a single variable,tuple is one of 4 built-in data types in Python used to store collections of data\n",
    "A tuple is a collection which is ordered and unchangeable.Tuples are written with round brackets.Tuple items allow duplicate values.Tuple items are indexed, the first item has index [0], the second item has index [1] etc.\n",
    "Lists are mutable and have more built-in methods for adding, removing, or changing elements. Because tuples are fixed and unchangeable, they are generally faster and are used when a constant, unchangeable sequence is needed."
   ]
  },
  {
   "cell_type": "code",
   "execution_count": 9,
   "metadata": {},
   "outputs": [
    {
     "name": "stdout",
     "output_type": "stream",
     "text": [
      "Tuple with different data types: (1, 'Hello', 3.14, True, None)\n",
      "First element: 1\n",
      "Second element: Hello\n",
      "Third element: 3.14\n",
      "Fourth element: True\n",
      "Fifth element: None\n"
     ]
    }
   ],
   "source": [
    "#44) Write a Python program to create a tuple with different data types. \n",
    "\n",
    "tup= (1, \"Hello\", 3.14, True, None)\n",
    "print(\"Tuple with different data types:\", tup)\n",
    "\n",
    "\n",
    "print(\"First element:\", tup[0])       \n",
    "print(\"Second element:\", tup[1])      \n",
    "print(\"Third element:\", tup[2])       \n",
    "print(\"Fourth element:\", tup[3])      \n",
    "print(\"Fifth element:\", tup[4])       "
   ]
  },
  {
   "cell_type": "code",
   "execution_count": 10,
   "metadata": {},
   "outputs": [
    {
     "name": "stdout",
     "output_type": "stream",
     "text": [
      "List of numbers: [1, 2, 3, 4]\n",
      "List of letters: ['a', 'b', 'c', 'd']\n"
     ]
    }
   ],
   "source": [
    "#45) Write a Python program to unzip a list of tuples into individual lists.\n",
    "\n",
    "lst = [(1, 'a'), (2, 'b'), (3, 'c'), (4, 'd')]\n",
    "\n",
    "numbers, letters = zip(*lst)\n",
    "\n",
    "numbers = list(numbers)\n",
    "letters = list(letters)\n",
    "\n",
    "print(\"List of numbers:\", numbers)\n",
    "print(\"List of letters:\", letters)"
   ]
  },
  {
   "cell_type": "code",
   "execution_count": 11,
   "metadata": {},
   "outputs": [
    {
     "name": "stdout",
     "output_type": "stream",
     "text": [
      "Dictionary: {1: 'apple', 2: True, 3: 'cherry'}\n"
     ]
    }
   ],
   "source": [
    "#46) Write a Python program to convert a list of tuples into a dictionary. \n",
    "\n",
    "listt = [(1, 'apple'), (2, True), (3, 'cherry')]\n",
    "\n",
    "dictt = dict(listt)\n",
    "\n",
    "print(\"Dictionary:\", dictt)"
   ]
  },
  {
   "cell_type": "raw",
   "metadata": {},
   "source": [
    "#47) How will you create a dictionary using tuples in python?\n",
    "\n",
    "-->In Python, you can create a dictionary from tuples by using the dict() function. Each tuple should contain exactly two elements: the first element becomes the key, and the second element becomes the value in the dictionary. This method works well with a list of tuples or even a tuple of tuples, where each two-item tuple represents a key-value pair. By converting the list or tuple of tuples directly to a dictionary, you can quickly set up key-value mappings. This approach is useful when you have structured data that you want to convert into a dictionary format for easier lookup."
   ]
  },
  {
   "cell_type": "code",
   "execution_count": 14,
   "metadata": {},
   "outputs": [
    {
     "name": "stdout",
     "output_type": "stream",
     "text": [
      "Dictionary sorted by value in ascending order: {'banana': 5, 'apple': 10, 'date': 15, 'cherry': 20}\n",
      "Dictionary sorted by value in descending order: {'cherry': 20, 'date': 15, 'apple': 10, 'banana': 5}\n"
     ]
    }
   ],
   "source": [
    "#48) Write a Python script to sort (ascending and descending) a dictionary by value. \n",
    "\n",
    "dictt = {'apple': 10, 'banana': 5, 'cherry': 20, 'date': 15}\n",
    "\n",
    "def value(item):\n",
    "    return item[1]\n",
    "\n",
    "Sorted = sorted(dictt.items(), key=value)\n",
    "ascending = dict(Sorted)\n",
    "\n",
    "sorted_ = sorted(dictt.items(), key=value, reverse=True)\n",
    "descending = dict(sorted_)\n",
    "\n",
    "print(\"Dictionary sorted by value in ascending order:\", ascending)\n",
    "print(\"Dictionary sorted by value in descending order:\", descending)"
   ]
  },
  {
   "cell_type": "code",
   "execution_count": 14,
   "metadata": {},
   "outputs": [
    {
     "name": "stdout",
     "output_type": "stream",
     "text": [
      "Concatenated dictionary : {'a': 1, 'b': 3, 'c': 4, 'd': 5}\n"
     ]
    }
   ],
   "source": [
    "#49) Write a Python script to concatenate following dictionaries to create a new one.\n",
    "\n",
    "dict1 = {'a': 1, 'b': 2}\n",
    "dict2 = {'b': 3, 'c': 4}\n",
    "dict3 = {'d': 5}\n",
    "\n",
    "new_dict = dict1.copy()  \n",
    "new_dict.update(dict2)   \n",
    "new_dict.update(dict3)   \n",
    "\n",
    "print(\"Concatenated dictionary :\", new_dict)"
   ]
  },
  {
   "cell_type": "code",
   "execution_count": 25,
   "metadata": {},
   "outputs": [
    {
     "name": "stdin",
     "output_type": "stream",
     "text": [
      "Enter a key :  age\n"
     ]
    },
    {
     "name": "stdout",
     "output_type": "stream",
     "text": [
      "The key 'age' exists in the dictionary.\n"
     ]
    }
   ],
   "source": [
    "#50)Write a Python script to check if a given key already exists in a dictionary. \n",
    "\n",
    "dictt = {\n",
    "    \n",
    "    \"name\": \"Alice\",\n",
    "    \"age\": 25,\n",
    "    \"city\": \"New York\"\n",
    "}\n",
    "check = input(\"Enter a key : \")\n",
    "\n",
    "def exists(dictionary, key):\n",
    "    if key in dictionary:\n",
    "        return True\n",
    "    else:\n",
    "        return False\n",
    "\n",
    "if exists(dictt , check):\n",
    "    print(f\"The key '{check}' exists in the dictionary.\")\n",
    "else:\n",
    "    print(f\"The key '{check}' does not exist in the dictionary.\")\n"
   ]
  },
  {
   "cell_type": "raw",
   "metadata": {},
   "source": [
    "51) How Do You Traverse Through a Dictionary Object in Python? \n",
    "\n",
    "-->Traversing through a dictionary in Python involves iterating over its key-value pairs to access or manipulate the data stored within. You can use a for loop to loop directly over the keys, allowing you to retrieve each value using the key. Alternatively, the .items() method enables simultaneous access to both keys and values in the form of tuples. If you only need to work with keys or values, you can utilize the .keys() or .values() methods, respectively. These methods provide a straightforward and efficient way to navigate and interact with dictionary contents in Python."
   ]
  },
  {
   "cell_type": "raw",
   "metadata": {},
   "source": [
    "52)How Do You Check the Presence of a Key in A Dictionary? \n",
    "\n",
    "-->To check for the presence of a key in a dictionary in Python, you can use the \"in\" keyword, which provides a simple and efficient way to verify whether a specified key exists. By using the expression key in dictionary, Python checks if the key is present and returns True if it is, and False otherwise. This approach is straightforward and avoids the need for additional function calls, making it the preferred method for key presence checks. Additionally, the get() method can be used, which returns the value associated with the key if it exists, or a default value if it does not, allowing for a more flexible way to handle key lookups."
   ]
  },
  {
   "cell_type": "code",
   "execution_count": 19,
   "metadata": {},
   "outputs": [
    {
     "name": "stdout",
     "output_type": "stream",
     "text": [
      "2 x 1 = 2\n",
      "2 x 2 = 4\n",
      "2 x 3 = 6\n",
      "2 x 4 = 8\n",
      "2 x 5 = 10\n",
      "2 x 6 = 12\n",
      "2 x 7 = 14\n",
      "2 x 8 = 16\n",
      "2 x 9 = 18\n",
      "2 x 10 = 20\n",
      "2 x 11 = 22\n",
      "2 x 12 = 24\n",
      "2 x 13 = 26\n",
      "2 x 14 = 28\n",
      "2 x 15 = 30\n"
     ]
    }
   ],
   "source": [
    "#53) Write a Python script to print a dictionary where the keys are numbers between 1 and 15. \n",
    "\n",
    "newdict = {}\n",
    "\n",
    "for i in range(1, 16):\n",
    "    newdict[i] = i*2  \n",
    "    \n",
    "# make a table using key numbers between 1 and 15\n",
    "for key, value in newdict.items():\n",
    "    print(f\"2 x {key} = {value}\")"
   ]
  },
  {
   "cell_type": "code",
   "execution_count": 21,
   "metadata": {},
   "outputs": [
    {
     "name": "stdout",
     "output_type": "stream",
     "text": [
      "The following keys do not exist in the dictionary: country\n"
     ]
    }
   ],
   "source": [
    "#54)Write a Python program to check multiple keys exists in a dictionary.\n",
    "\n",
    "dictt = {\n",
    "    'name': 'Alice',\n",
    "    'age': 25,\n",
    "    'city': 'New York',\n",
    "    'profession': 'Engineer'\n",
    "}\n",
    "\n",
    "check = ['name', 'age', 'country', 'city']\n",
    "\n",
    "def check_keys(dictionary, keys):\n",
    "    missing_keys = []  \n",
    "    for key in keys:\n",
    "        if key not in dictionary:\n",
    "            missing_keys.append(key)  \n",
    "    return missing_keys\n",
    "\n",
    "missing_keys = check_keys(dictt,check)\n",
    "\n",
    "if missing_keys:\n",
    "    print(f\"The following keys do not exist in the dictionary: {', '.join(missing_keys)}\")\n",
    "else:\n",
    "    print(\"All keys exist in the dictionary.\")"
   ]
  },
  {
   "cell_type": "code",
   "execution_count": 22,
   "metadata": {},
   "outputs": [
    {
     "name": "stdout",
     "output_type": "stream",
     "text": [
      "Merged dictionary: {'a': 1, 'b': 4, 'c': 3, 'd': 5, 'e': 6}\n"
     ]
    }
   ],
   "source": [
    "#55) Write a Python script to merge two Python dictionaries.\n",
    "\n",
    "dict1 = {'a': 1, 'b': 2, 'c': 3}\n",
    "dict2 = {'b': 4, 'd': 5, 'e': 6}\n",
    "\n",
    "merged = dict1.copy()  \n",
    "merged.update(dict2)    \n",
    "\n",
    "print(\"Merged dictionary:\", merged)\n"
   ]
  },
  {
   "cell_type": "code",
   "execution_count": 31,
   "metadata": {},
   "outputs": [
    {
     "name": "stdout",
     "output_type": "stream",
     "text": [
      "Counter({'a': 400, 'b': 400, 'd': 400, 'c': 300})\n"
     ]
    }
   ],
   "source": [
    "#56) Write a Python program to map two lists into a dictionary.\n",
    "#Sample output: Counter ({'a': 400, 'b': 400,’d’: 400, 'c': 300}). \n",
    "\n",
    "from collections import Counter\n",
    "\n",
    "keys = ['a', 'b', 'c', 'd']\n",
    "values = [400, 400, 300, 400]\n",
    "\n",
    "mapped_counter = Counter(dict(zip(keys, values)))\n",
    "\n",
    "print(mapped_counter, sep=\"\")"
   ]
  },
  {
   "cell_type": "code",
   "execution_count": 35,
   "metadata": {},
   "outputs": [
    {
     "name": "stdout",
     "output_type": "stream",
     "text": [
      "The highest 3 values are: [400, 300, 200]\n"
     ]
    }
   ],
   "source": [
    "#57) Write a Python program to find the highest 3 values in a dictionary.\n",
    "\n",
    "dictt = {'a': 50, 'b': 200, 'c': 150, 'd': 400, 'e': 300}\n",
    "\n",
    "top_3 = sorted(dictt.values(), reverse=True)[:3]\n",
    "\n",
    "print(\"The highest 3 values are:\", top_3)"
   ]
  },
  {
   "cell_type": "code",
   "execution_count": 37,
   "metadata": {},
   "outputs": [
    {
     "name": "stdout",
     "output_type": "stream",
     "text": [
      "Counter({'item1': 1150 , 'item2': 300})\n"
     ]
    }
   ],
   "source": [
    "#58) Write a Python program to combine values in python list of dictionaries.\n",
    "#Sample data: [{'item': 'item1', 'amount': 400}, {'item': 'item2', 'amount':300}, o {'item': 'item1', 'amount': 750}]\n",
    "\n",
    "data = [\n",
    "    {'item': 'item1', 'amount': 400},\n",
    "    {'item': 'item2', 'amount': 300},\n",
    "    {'item': 'item1', 'amount': 750}\n",
    "]\n",
    "\n",
    "result = {}\n",
    "\n",
    "for entry in data:\n",
    "    item = entry['item']\n",
    "    amount = entry['amount']\n",
    "    \n",
    "    if item in result:\n",
    "        result[item] += amount\n",
    "    else:\n",
    "        result[item] = amount\n",
    "\n",
    "print(\"Counter({\", end=\"\")\n",
    "pairs = []\n",
    "for key, value in result.items():\n",
    "    pairs.append(\"'\" + str(key) + \"': \" + str(value))\n",
    "\n",
    "print(\" , \".join(pairs), end=\"\")\n",
    "print(\"})\")"
   ]
  },
  {
   "cell_type": "code",
   "execution_count": 38,
   "metadata": {},
   "outputs": [
    {
     "name": "stdout",
     "output_type": "stream",
     "text": [
      "{'g': 2, 'o': 2, 'd': 1, 'e': 2, 'v': 1, 'n': 2, 'i': 1}\n"
     ]
    }
   ],
   "source": [
    "#59)Write a Python program to create a dictionary from a string.\n",
    "#Note: Track the count of the letters from the string. \n",
    "\n",
    "string = \"good evening\"\n",
    "\n",
    "count = {}\n",
    "\n",
    "for char in string:\n",
    "    if char != \" \":\n",
    "        if char in count:\n",
    "            count[char] += 1\n",
    "        else:\n",
    "            count[char] = 1\n",
    "\n",
    "print(count)"
   ]
  },
  {
   "cell_type": "code",
   "execution_count": 41,
   "metadata": {},
   "outputs": [
    {
     "name": "stdout",
     "output_type": "stream",
     "text": [
      "{'3': 1 , 's': 1 , 'r': 2 , 'u': 1 , 'w': 1 , 'c': 1 , 'e': 2 , 'o': 1}\n"
     ]
    }
   ],
   "source": [
    "#60) Sample string:\n",
    "# 'w3resource' Expected output:\n",
    "#• {'3': 1,’s’: 1, 'r': 2, 'u': 1, 'w': 1, 'c': 1, 'e': 2, 'o': 1}\n",
    "\n",
    "string = 'w3resource'\n",
    "count = {}\n",
    "\n",
    "for char in string:\n",
    "    if char in count:\n",
    "        count[char] += 1\n",
    "    else:\n",
    "        count[char] = 1\n",
    "\n",
    "pairs = []\n",
    "\n",
    "order = ['3', 's', 'r', 'u', 'w', 'c', 'e', 'o']\n",
    "for key in order:\n",
    "   pairs.append(f\"'{key}': {count[key]}\")\n",
    "\n",
    "print(\"{\" + \" , \".join(pairs) + \"}\")"
   ]
  },
  {
   "cell_type": "code",
   "execution_count": 17,
   "metadata": {},
   "outputs": [
    {
     "name": "stdin",
     "output_type": "stream",
     "text": [
      "Enter a number:  3\n"
     ]
    },
    {
     "name": "stdout",
     "output_type": "stream",
     "text": [
      "The factorial of 3 is 6\n"
     ]
    }
   ],
   "source": [
    "#61) Write a Python function to calculate the factorial of a number (a nonnegative integer).\n",
    "\n",
    "def factorial(number):\n",
    "    fact = 1\n",
    "    if number < 0:\n",
    "        return \"Factorial is not defined for negative numbers.\"\n",
    "    elif number == 0 or number == 1:\n",
    "        return fact\n",
    "    else:\n",
    "        for i in range(1, number + 1):\n",
    "            fact *= i\n",
    "    return fact\n",
    "\n",
    "# Input from the user\n",
    "number = int(input(\"Enter a number: \"))\n",
    "result = factorial(number)\n",
    "print(\"The factorial of\", number, \"is\", result)"
   ]
  },
  {
   "cell_type": "code",
   "execution_count": 29,
   "metadata": {},
   "outputs": [
    {
     "name": "stdin",
     "output_type": "stream",
     "text": [
      "Enter a number to check if it's in the range:  5\n",
      "Enter the start of the range:  1\n",
      "Enter the end of the range:  10\n"
     ]
    },
    {
     "name": "stdout",
     "output_type": "stream",
     "text": [
      "5 is in the range [1, 10].\n"
     ]
    }
   ],
   "source": [
    "#62) Write a Python function to check whether a number is in a given range.\n",
    "\n",
    "def range(number, start, end):\n",
    "    return start <= number <= end\n",
    "\n",
    "num = int(input(\"Enter a number to check if it's in the range: \"))\n",
    "start_range = int(input(\"Enter the start of the range: \"))\n",
    "end_range = int(input(\"Enter the end of the range: \"))\n",
    "\n",
    "if range(num, start_range, end_range):\n",
    "    print(f\"{num} is in the range [{start_range}, {end_range}].\")\n",
    "else:\n",
    "    print(f\"{num} is not in the range [{start_range}, {end_range}].\")"
   ]
  },
  {
   "cell_type": "code",
   "execution_count": 1,
   "metadata": {},
   "outputs": [
    {
     "name": "stdin",
     "output_type": "stream",
     "text": [
      "Enter a positive integer to check if it's a perfect number:  6\n"
     ]
    },
    {
     "name": "stdout",
     "output_type": "stream",
     "text": [
      "6 is a perfect number.\n"
     ]
    }
   ],
   "source": [
    "#63) Write a Python function to check whether a number is perfect or not.\n",
    "\n",
    "def perfect_number(n):\n",
    "    if n <= 0:\n",
    "        return False \n",
    "    \n",
    "    divisors = 0\n",
    "    for i in range(1, n):\n",
    "        if n % i == 0:  \n",
    "            divisors += i\n",
    "    \n",
    "    return divisors == n\n",
    "\n",
    "num = int(input(\"Enter a positive integer to check if it's a perfect number: \"))\n",
    "if perfect_number(num):\n",
    "    print(f\"{num} is a perfect number.\")\n",
    "else:\n",
    "    print(f\"{num} is not a perfect number.\")"
   ]
  },
  {
   "cell_type": "code",
   "execution_count": 3,
   "metadata": {},
   "outputs": [
    {
     "name": "stdin",
     "output_type": "stream",
     "text": [
      "Enter a string to check if it's a palindrome:  level\n"
     ]
    },
    {
     "name": "stdout",
     "output_type": "stream",
     "text": [
      "\"level\" is a palindrome.\n"
     ]
    }
   ],
   "source": [
    "#64) Write a Python function that checks whether a passed string is palindrome or not.\n",
    "\n",
    "def is_palindrome(s):\n",
    "\n",
    "    str = s.replace(\" \", \"\").lower()\n",
    "    return str == str[::-1]\n",
    "\n",
    "string = input(\"Enter a string to check if it's a palindrome: \")\n",
    "if is_palindrome(string):\n",
    "    print(f'\"{string}\" is a palindrome.')\n",
    "else:\n",
    "    print(f'\"{string}\" is not a palindrome.')"
   ]
  },
  {
   "cell_type": "raw",
   "metadata": {},
   "source": [
    "65) How Many Basic Types of Functions Are Available in Python?\n",
    "\n",
    "-->Python has several basic types of functions that help perform different tasks. \n",
    "(i)Built-in functions are pre-defined and can be used directly, like print() and len(). \n",
    "(ii)User-defined functions are created by users using the def keyword to carry out specific actions. \n",
    "(iii)Anonymous functions, or lambda functions, are small, unnamed functions that can be created in one line. \n",
    "(iv)Recursive functions call themselves to solve problems, like calculating factorials. \n",
    "(v)Higher-order functions can take other functions as arguments or return them, while generator functions use yield to create sequences of values one at a time. \n",
    "Each type of function serves a unique purpose in programming."
   ]
  },
  {
   "cell_type": "raw",
   "metadata": {},
   "source": [
    "66)How can you pick a random item from a list or tuple?\n",
    "\n",
    "-->To pick a random item from a list or tuple in Python, you can use the random.choice() function from the random module. This function takes the list or tuple as an argument and returns a randomly selected item. \n",
    "For example, you can do this by first importing the random module and then calling random.choice(your_list) or random.choice(your_tuple) to get a random element from the collection."
   ]
  },
  {
   "cell_type": "raw",
   "metadata": {},
   "source": [
    "67) How can you pick a random item from a range? \n",
    "\n",
    "-->To pick a random item from a range in Python, you can use the random.randint() function from the random module. This function allows you to specify the start and end of the range, inclusive. For example, you can get a random integer between 1 and 10 by calling random.randint(1, 10). Alternatively, you can use random.choice() in combination with range(), like random.choice(range(1, 11)), which achieves the same result by converting the range into a list of numbers."
   ]
  },
  {
   "cell_type": "raw",
   "metadata": {},
   "source": [
    "68) How can you get a random number in python? \n",
    "\n",
    "-->In Python, you can generate a random number using the random module, which provides several functions. The random.random() function returns a floating-point number between 0.0 and 1.0. To get a random integer within a specific range, you can use random.randint(a, b), which returns a random integer between a and b, inclusive. For random numbers from a range with a specified step, random.randrange(start, stop, step) can be used. If you need a random floating-point number within a specific range, use random.uniform(a, b). Don't forget to import the random module first with import random."
   ]
  },
  {
   "cell_type": "raw",
   "metadata": {},
   "source": [
    "69) How will you set the starting value in generating random numbers? \n",
    "\n",
    "-->To set the starting value for generating random numbers in Python, you use the random.seed() function from the random module. Setting a seed ensures that the sequence of random numbers generated is reproducible.\n",
    "For example, calling random.seed(10) will set the starting point, so every time you run the program with this seed, you’ll get the same sequence of random numbers. This is especially useful for debugging or when you want consistent results in simulations."
   ]
  },
  {
   "cell_type": "code",
   "execution_count": 3,
   "metadata": {},
   "outputs": [
    {
     "name": "stdout",
     "output_type": "stream",
     "text": [
      "[1, 5, 3, 2, 4]\n"
     ]
    }
   ],
   "source": [
    "#70) How will you randomize the items of a list in place?\n",
    "\n",
    "\"\"\"To randomize or shuffle the items of a list in place in Python, you can use the random.\n",
    "shuffle() function from the random module. This function modifies the list directly,rearranging its elements in a random order.\n",
    "Here’s how to use it:\"\"\"\n",
    "\n",
    "import random\n",
    "\n",
    "lst = [1, 2, 3, 4, 5]\n",
    "random.shuffle(lst)\n",
    "print(lst)\n",
    "\n",
    "#Each time you run this code, lst will be shuffled into a different random order. \n",
    "#Note that shuffle() only works with mutable sequences, like lists, and not with tuples or strings."
   ]
  },
  {
   "cell_type": "raw",
   "metadata": {},
   "source": [
    "71) What is File function in python? What are keywords to create and write file. \n",
    "\n",
    "-->In Python, the file function typically refers to the open() function. file handling is done with the open() function, which opens a file for various operations like reading, writing, or appending. Key modes include\n",
    "'w' to write (creates or overwrites), \n",
    "'a' to append (adds to the end or creates if missing), and \n",
    "'x' to exclusively create a file (errors if it exists). \n",
    "Closing the file afterward with file.close() ensures changes are saved. \n",
    "For example, open(\"file.txt\", \"w\") will open (or create) \"file.txt\" for writing, allowing you to write data to it directly."
   ]
  },
  {
   "cell_type": "code",
   "execution_count": 36,
   "metadata": {},
   "outputs": [
    {
     "name": "stdout",
     "output_type": "stream",
     "text": [
      "Hello!!\n",
      "Good Morning...\n",
      "how are you??\n",
      "what are you doing??\n",
      "\n"
     ]
    }
   ],
   "source": [
    "#72) Write a Python program to read an entire text file. \n",
    "\n",
    "a = open(\"file(72).txt\", \"r\")\n",
    "content = a.read()  \n",
    "print(content)         "
   ]
  },
  {
   "cell_type": "code",
   "execution_count": 39,
   "metadata": {},
   "outputs": [
    {
     "name": "stdout",
     "output_type": "stream",
     "text": [
      "Hello!!\n",
      "Good Morning...\n",
      "how are you??\n",
      "what are you doing??\n",
      "have a great day!\n",
      "\n"
     ]
    }
   ],
   "source": [
    "#73) Write a Python program to append text to a file and display the text.\n",
    "\n",
    "append = \"have a great day!\"\n",
    "\n",
    "a = open(\"file(72).txt\" , \"a\")\n",
    "b = a.write(append + \"\\n\") \n",
    "\n",
    "b = open(\"file(72).txt\" , \"r\")\n",
    "content = b.read()\n",
    "print(content)         "
   ]
  },
  {
   "cell_type": "code",
   "execution_count": 40,
   "metadata": {},
   "outputs": [
    {
     "name": "stdout",
     "output_type": "stream",
     "text": [
      "Hello!!\n",
      "Good Morning...\n",
      "how are you??\n"
     ]
    }
   ],
   "source": [
    "#74) Write a Python program to read first n lines of a file. \n",
    "\n",
    "def read(filename, n):\n",
    "    b = open(filename, \"r\")  \n",
    "    for i in range(n):\n",
    "        line = b.readline()    \n",
    "        if not line:           \n",
    "            break\n",
    "        print(line.strip())   \n",
    "    b.close()                 \n",
    "\n",
    "filename = \"file(72).txt\"  \n",
    "n = 3                       \n",
    "\n",
    "read(filename, n)"
   ]
  },
  {
   "cell_type": "code",
   "execution_count": 41,
   "metadata": {},
   "outputs": [
    {
     "name": "stdout",
     "output_type": "stream",
     "text": [
      "how are you??\n",
      "what are you doing??\n",
      "have a great day!\n"
     ]
    }
   ],
   "source": [
    "#75) Write a Python program to read last n lines of a file. \n",
    "\n",
    "def read(filename, n):\n",
    "    b = open(filename, \"r\")  \n",
    "    lines = b.readlines()    \n",
    "    b.close()                 \n",
    "\n",
    "    for line in lines[-n:]:  \n",
    "        print(line.strip())   \n",
    "\n",
    "filename = \"file(72).txt\"  \n",
    "n = 3                       \n",
    "\n",
    "read(filename, n)"
   ]
  },
  {
   "cell_type": "code",
   "execution_count": 42,
   "metadata": {},
   "outputs": [
    {
     "name": "stdout",
     "output_type": "stream",
     "text": [
      "['Hello!!', 'Good Morning...', 'how are you??', 'what are you doing??', 'have a great day!']\n"
     ]
    }
   ],
   "source": [
    "#76) Write a Python program to read a file line by line and store it into a list.\n",
    "\n",
    "def read(filename):\n",
    "    lines = []  \n",
    "    b = open(filename, \"r\")  \n",
    "    for line in b:          \n",
    "        lines.append(line.strip()) \n",
    "    b.close()                \n",
    "    return lines             \n",
    "\n",
    "filename = \"file(72).txt\" \n",
    "\n",
    "lst = read(filename)\n",
    "print(lst)"
   ]
  },
  {
   "cell_type": "code",
   "execution_count": 43,
   "metadata": {},
   "outputs": [
    {
     "name": "stdout",
     "output_type": "stream",
     "text": [
      "Hello!!\n",
      "Good Morning...\n",
      "how are you??\n",
      "what are you doing??\n",
      "have a great day!\n",
      "\n"
     ]
    }
   ],
   "source": [
    "#77) Write a Python program to read a file line by line store it into a variable. \n",
    "\n",
    "def variable(filename):\n",
    "    content = \"\"  \n",
    "    b = open(filename, \"r\")  \n",
    "    for line in b:  \n",
    "        content += line \n",
    "    b.close() \n",
    "    return content \n",
    "\n",
    "filename = \"file(72).txt\"  \n",
    "\n",
    "file = variable(filename)\n",
    "print(file)"
   ]
  },
  {
   "cell_type": "code",
   "execution_count": null,
   "metadata": {},
   "outputs": [],
   "source": [
    "#78) Write a python program to find the longest words.\n",
    "\n",
    "def find(word_list):\n",
    "    \n",
    "    if not word_list:\n",
    "        return []\n",
    "\n",
    "    length = 0\n",
    "    words = []\n",
    "\n",
    "    for word in word_list:\n",
    "        length = len(word)\n",
    "\n",
    "        if length > max_length:\n",
    "            max_length = length\n",
    "            words = [word] \n",
    "        elif length == max_length:\n",
    "            words.append(word) \n",
    "\n",
    "    return words\n",
    "\n",
    "lst = input(\"Enter a list of words :\").split()\n",
    "words = find(lst)\n",
    "print(\"Longest word :\",words)"
   ]
  },
  {
   "cell_type": "code",
   "execution_count": 44,
   "metadata": {},
   "outputs": [
    {
     "name": "stdout",
     "output_type": "stream",
     "text": [
      "The number of lines in the file 'file(72).txt' is: 5\n"
     ]
    }
   ],
   "source": [
    "#79) Write a Python program to count the number of lines in a text file. \n",
    "\n",
    "def lines(filename):\n",
    "    count = 0\n",
    "\n",
    "    b = open(\"file(72).txt\" , \"r\")\n",
    "    for line in b:\n",
    "        count += 1  \n",
    "    b.close() \n",
    "    return count \n",
    "    \n",
    "filename = \"file(72).txt\" \n",
    "total_lines = lines(filename)\n",
    "print(f\"The number of lines in the file '{filename}' is: {total_lines}\")"
   ]
  },
  {
   "cell_type": "code",
   "execution_count": 51,
   "metadata": {},
   "outputs": [
    {
     "name": "stdout",
     "output_type": "stream",
     "text": [
      "hello!!: 1\n",
      "good: 1\n",
      "morning...: 1\n",
      "how: 1\n",
      "are: 2\n",
      "you??: 1\n",
      "what: 1\n",
      "you: 1\n",
      "doing??: 1\n",
      "have: 1\n",
      "a: 1\n",
      "great: 1\n",
      "day!: 1\n"
     ]
    }
   ],
   "source": [
    "#80) Write a Python program to count the frequency of words in a file. \n",
    "\n",
    "def frequency(filename):\n",
    "    word_frequency = {}\n",
    "\n",
    "    b = open(\"file(72).txt\" , \"r\")\n",
    "    for line in b:\n",
    "            words = line.lower().split()\n",
    "            for w in words:\n",
    "                if w in word_frequency:\n",
    "                    word_frequency[w] += 1 \n",
    "                else:\n",
    "                    word_frequency[w] = 1  \n",
    "\n",
    "    return word_frequency\n",
    "\n",
    "filename = \"file(72).txt\" \n",
    "count = frequency(filename)\n",
    "\n",
    "for w, count in count.items():\n",
    "    print(f\"{w}: {count}\")"
   ]
  },
  {
   "cell_type": "code",
   "execution_count": 2,
   "metadata": {},
   "outputs": [
    {
     "name": "stdout",
     "output_type": "stream",
     "text": [
      "The list has been written to file(81).txt.\n"
     ]
    }
   ],
   "source": [
    "#81) Write a Python program to write a list to a file. \n",
    "\n",
    "def file(filename,listt):\n",
    "    a = open(filename, \"w\")\n",
    "    for item in listt:\n",
    "        a.write(f\"{item}\\n\")  \n",
    "\n",
    "filename = \"file(81).txt\"\n",
    "listt = [\"python\", \"language\", 13 , True , 22.3]\n",
    "\n",
    "file(filename, listt)\n",
    "print(f\"The list has been written to {filename}.\")"
   ]
  },
  {
   "cell_type": "code",
   "execution_count": 4,
   "metadata": {},
   "outputs": [
    {
     "name": "stdout",
     "output_type": "stream",
     "text": [
      "Contents of source.txt have been copied to destination.txt.\n"
     ]
    }
   ],
   "source": [
    "#82) Write a Python program to copy the contents of a file to another file.\n",
    "\n",
    "def copy(source, destination):\n",
    "    src = open(source, \"r\")  \n",
    "    dest = open(destination, \"w\")  \n",
    "    \n",
    "    for line in src:\n",
    "        dest.write(line)  \n",
    "    \n",
    "    src.close()\n",
    "    dest.close()\n",
    "\n",
    "source = \"source.txt\"\n",
    "destination = \"destination.txt\"\n",
    "\n",
    "copy(source , destination)\n",
    "print(f\"Contents of {source} have been copied to {destination}.\")"
   ]
  },
  {
   "cell_type": "raw",
   "metadata": {},
   "source": [
    "83) Explain Exception handling? What is an Error in Python? \n",
    "\n",
    "-->Exception handling in Python refers to the process of responding to the occurrence of exceptions—unforeseen events or errors that disrupt the normal flow of a program. When an error occurs, Python raises an exception, which can be handled using try, except, else, and finally blocks. This allows programmers to gracefully manage errors, preventing crashes and providing meaningful feedback. An error in Python can occur for various reasons, such as syntax errors, runtime errors (like division by zero), or logical errors (incorrect results due to flawed logic). Effective exception handling improves code robustness by allowing developers to anticipate and manage potential issues without abrupt program termination."
   ]
  },
  {
   "cell_type": "raw",
   "metadata": {},
   "source": [
    "84) How many except statements can a try-except block have? Name Some built-in exception classes:\n",
    "\n",
    "-->A try-except block in Python can have multiple except statements to handle different types of exceptions that may arise during the execution of the code inside the try block. This allows for more specific error handling depending on the type of exception raised. There is no strict limit on the number of except statements you can have in a single try block, but it's generally advisable to keep it manageable and clear.\n",
    "-->Some built-in exception classes:\n",
    "(i)ZeroDivisionError: Raised when attempting to divide a number by zero.\n",
    "(ii)AttributeError: Raised when an invalid attribute reference is made.\n",
    "(iii)NameError: Raised when trying to access a variable that has not been defined.\n",
    "(iv)IndexError: Raised when trying to access an index that is out of range for a list or a tuple.\n",
    "(v)KeyError: Raised when trying to access a dictionary with a key that does not exist.\n",
    "etc..."
   ]
  },
  {
   "cell_type": "raw",
   "metadata": {},
   "source": [
    "85) When will the else part of try-except-else be executed?\n",
    "\n",
    "-->The else part of a try-except-else block in Python is executed only when the code within the try block does not raise any exceptions. This means that if the try block runs successfully without encountering an error, the code inside the else block will execute next. It is commonly used to define code that should run only if the try block succeeds, allowing for a clear separation between error handling and normal execution flow. If an exception occurs, the else block is skipped entirely."
   ]
  },
  {
   "cell_type": "raw",
   "metadata": {},
   "source": [
    "86) Can one block of except statements handle multiple exception? \n",
    "\n",
    "-->Yes, one block of except statements can handle multiple exceptions in Python. This is done by specifying a tuple of exception types in a single except clause. When an exception is raised in the try block, Python checks the type of the exception and matches it against the specified types in the tuple. If there is a match, the code inside that except block will execute, allowing you to handle various exceptions with the same logic. This approach simplifies the code and keeps it clean by reducing redundancy, as you can define a single error-handling routine for multiple potential errors, rather than having separate except blocks for each exception type."
   ]
  },
  {
   "cell_type": "raw",
   "metadata": {},
   "source": [
    "87) When is the finally block executed? \n",
    "\n",
    "-->The finally block in Python is executed after the try and except blocks have completed, regardless of whether an exception was raised or not. This means that the code within the finally block will run after the try block finishes executing, and it will also run if an exception occurs and is caught in the except block. The primary purpose of the finally block is to ensure that certain cleanup actions, such as closing files or releasing resources, are always performed, regardless of whether the code executed successfully or encountered an error. Even if the program encounters a return statement or an unhandled exception within the try or except blocks, the code in the finally block will still execute."
   ]
  },
  {
   "cell_type": "raw",
   "metadata": {},
   "source": [
    "88) What happens when „1‟== 1 is executed? \n",
    "\n",
    "-->When the expression „1‟ == 1 is executed in Python, it evaluates to False. This is because the left operand is a string („1‟) and the right operand is an integer (1). Python performs a type comparison when evaluating equality. Since the types of the two operands are different (string vs. integer), Python determines that they are not equal, resulting in the output False. In summary, the expression checks for equality and, due to the type mismatch, the comparison fails, returning False."
   ]
  },
  {
   "cell_type": "raw",
   "metadata": {},
   "source": [
    "89) How Do You Handle Exceptions with Try/Except/Finally in Python? \n",
    "\n",
    "-->In Python, exceptions are handled using the try, except, and finally blocks. The try block contains code that may raise an exception, while the except block catches and handles specific exceptions, allowing the program to continue running without crashing. The finally block executes regardless of whether an exception occurred, making it ideal for cleanup tasks, such as closing files or releasing resources. This structured approach enables developers to manage errors effectively, ensuring robust and error-resistant code."
   ]
  },
  {
   "cell_type": "code",
   "execution_count": 8,
   "metadata": {},
   "outputs": [
    {
     "name": "stdout",
     "output_type": "stream",
     "text": [
      "The result of division is: 5.0\n",
      "Execution complete.\n",
      "Error: Cannot divide by zero.\n",
      "Execution complete.\n",
      "Error: Invalid input type.\n",
      "Execution complete.\n"
     ]
    }
   ],
   "source": [
    "#89) Explain with coding snippets.\n",
    "\n",
    "def divide(num1, num2):\n",
    "    try:\n",
    "        result = num1 / num2\n",
    "        print(f\"The result of division is: {result}\")\n",
    "    except ZeroDivisionError:\n",
    "        print(\"Error: Cannot divide by zero.\")\n",
    "    except TypeError:\n",
    "        print(\"Error: Invalid input type.\")\n",
    "    finally:\n",
    "        print(\"Execution complete.\")\n",
    "\n",
    "divide(10, 2)  \n",
    "divide(10, 0)  \n",
    "divide(10, 'a') "
   ]
  },
  {
   "cell_type": "code",
   "execution_count": 5,
   "metadata": {},
   "outputs": [
    {
     "name": "stdin",
     "output_type": "stream",
     "text": [
      "Please enter an odd number:  2\n"
     ]
    },
    {
     "name": "stdout",
     "output_type": "stream",
     "text": [
      "The number entered is even. Please enter an odd number.\n"
     ]
    },
    {
     "name": "stdin",
     "output_type": "stream",
     "text": [
      "Please enter an odd number:  5\n"
     ]
    },
    {
     "name": "stdout",
     "output_type": "stream",
     "text": [
      "You have entered the odd number: 5\n"
     ]
    }
   ],
   "source": [
    "#90)Write python program that user to enter only odd numbers,else will raise an exception. \n",
    "\n",
    "def odd():\n",
    "    while True:  \n",
    "        try:\n",
    "            user = int(input(\"Please enter an odd number: \"))  \n",
    "            \n",
    "            if user % 2 == 0:  \n",
    "                raise ValueError(\"The number entered is even. Please enter an odd number.\")  \n",
    "\n",
    "            print(f\"You have entered the odd number: {user}\")  \n",
    "            break  \n",
    "\n",
    "        except ValueError as e:  \n",
    "            print(e)  \n",
    "\n",
    "odd()"
   ]
  },
  {
   "cell_type": "code",
   "execution_count": null,
   "metadata": {},
   "outputs": [],
   "source": []
  }
 ],
 "metadata": {
  "kernelspec": {
   "display_name": "Python 3 (ipykernel)",
   "language": "python",
   "name": "python3"
  },
  "language_info": {
   "codemirror_mode": {
    "name": "ipython",
    "version": 3
   },
   "file_extension": ".py",
   "mimetype": "text/x-python",
   "name": "python",
   "nbconvert_exporter": "python",
   "pygments_lexer": "ipython3",
   "version": "3.12.7"
  }
 },
 "nbformat": 4,
 "nbformat_minor": 4
}
